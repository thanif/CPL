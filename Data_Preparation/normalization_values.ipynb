{
 "cells": [
  {
   "cell_type": "code",
   "execution_count": 1,
   "id": "fdd675a7",
   "metadata": {},
   "outputs": [
    {
     "name": "stdout",
     "output_type": "stream",
     "text": [
      "WARNING:tensorflow:From /home/talha/anaconda3/lib/python3.8/site-packages/tensorflow/python/compat/v2_compat.py:96: disable_resource_variables (from tensorflow.python.ops.variable_scope) is deprecated and will be removed in a future version.\n",
      "Instructions for updating:\n",
      "non-resource variables are not supported in the long term\n"
     ]
    }
   ],
   "source": [
    "import tensorflow.compat.v1 as tf\n",
    "tf.disable_v2_behavior()\n",
    "tf.set_random_seed(1)\n",
    "config = tf.compat.v1.ConfigProto()\n",
    "config.gpu_options.allow_growth=True\n",
    "sess = tf.compat.v1.Session(config=config)\n",
    "import matplotlib.pyplot as plt\n",
    "import PIL.Image as Image\n",
    "import math\n",
    "import numpy as np\n",
    "import tensorflow.keras.backend as K\n",
    "from tensorflow.keras.utils import plot_model\n",
    "import json\n",
    "from tensorflow.keras.losses import mse\n",
    "import os\n",
    "import glob\n",
    "import random\n",
    "#import cv2\n",
    "from sklearn.model_selection import train_test_split\n",
    "from tensorflow.keras.applications.inception_v3 import InceptionV3\n",
    "import datetime\n",
    "from tensorflow.keras.layers import Dense, Input, concatenate, Conv2D, MaxPooling2D, Flatten, Lambda\n",
    "from tensorflow.keras.models import Model\n",
    "from tensorflow.keras import optimizers\n",
    "from tensorflow.keras.callbacks import ModelCheckpoint, EarlyStopping, CSVLogger, ReduceLROnPlateau\n",
    "from tensorflow.keras.callbacks import TensorBoard\n",
    "%matplotlib inline"
   ]
  },
  {
   "cell_type": "markdown",
   "id": "6653dd5d",
   "metadata": {},
   "source": [
    "# Max, Min values for range normalization"
   ]
  },
  {
   "cell_type": "markdown",
   "id": "23db34c8",
   "metadata": {},
   "source": [
    "# Focal Length (fx)"
   ]
  },
  {
   "cell_type": "markdown",
   "id": "1dd00171",
   "metadata": {},
   "source": [
    "## Generated Data"
   ]
  },
  {
   "cell_type": "code",
   "execution_count": 7,
   "id": "bb102a31",
   "metadata": {},
   "outputs": [],
   "source": [
    "afx = np.load(\"./Data/fx.npy\")\n",
    "afx = afx[int(len(afx)*0.7):]\n",
    "pfx_avg = np.load(\"./Data/p_avg_gd.npy\")[0]\n",
    "pfx_dh = np.load(\"./Data/p_dh_gd.npy\")\n",
    "pfx_cplb = np.load(\"./Data/p_cplb_gd.npy\")\n",
    "pfx_cplu = np.load(\"./Data/p_cplu_gd.npy\")\n",
    "pfx_cpla = np.load(\"./Data/p_cpla_gd.npy\")"
   ]
  },
  {
   "cell_type": "code",
   "execution_count": 20,
   "id": "28fbe763",
   "metadata": {},
   "outputs": [
    {
     "data": {
      "text/plain": [
       "(23796, 23796, 13)"
      ]
     },
     "execution_count": 20,
     "metadata": {},
     "output_type": "execute_result"
    }
   ],
   "source": [
    "len(afx), len(pfx_cpla[0]), len(pfx_dh[0])"
   ]
  },
  {
   "cell_type": "code",
   "execution_count": 31,
   "id": "87ee148a",
   "metadata": {},
   "outputs": [],
   "source": [
    "max_fx_l = 0\n",
    "min_fx_l = 100000\n",
    "\n",
    "for idx in range(len(afx)):\n",
    "    \n",
    "    error_avg = abs(pfx_avg - afx[idx])\n",
    "    error_dh = abs(pfx_dh[idx][0] - afx[idx])\n",
    "    error_cplb = abs(pfx_cplb[0][idx] - afx[idx])\n",
    "    error_cplu = abs(pfx_cplu[0][idx] - afx[idx])\n",
    "    error_cpla = abs(pfx_cpla[0][idx] - afx[idx])\n",
    "    \n",
    "    t_min = min([error_avg, error_dh, error_cplb, error_cplu, error_cpla])\n",
    "    t_max = max([error_avg, error_dh, error_cplb, error_cplu, error_cpla])\n",
    "    \n",
    "    if t_min < min_fx_l:\n",
    "        \n",
    "        min_fx_l = t_min\n",
    "        \n",
    "    if t_max > max_fx_l:\n",
    "        \n",
    "        max_fx_l = t_max\n",
    "    "
   ]
  },
  {
   "cell_type": "code",
   "execution_count": 32,
   "id": "85a10813",
   "metadata": {},
   "outputs": [
    {
     "data": {
      "text/plain": [
       "(array([1.9073486e-06], dtype=float32), array([3214.9907], dtype=float32))"
      ]
     },
     "execution_count": 32,
     "metadata": {},
     "output_type": "execute_result"
    }
   ],
   "source": [
    "min_fx_l, max_fx_l"
   ]
  },
  {
   "cell_type": "markdown",
   "id": "fa3e4a29",
   "metadata": {},
   "source": [
    "# Real Data"
   ]
  },
  {
   "cell_type": "code",
   "execution_count": 35,
   "id": "0e0976b4",
   "metadata": {},
   "outputs": [],
   "source": [
    "afx = np.load(\"./Data/fxr.npy\")\n",
    "pfx_avg = np.load(\"./Data/p_avg_ad.npy\")[0]\n",
    "pfx_dh = np.load(\"./Data/p_dh_ad.npy\")\n",
    "pfx_cplb = np.load(\"./Data/p_cplb_ad.npy\")\n",
    "pfx_cplu = np.load(\"./Data/p_cplu_ad.npy\")\n",
    "pfx_cpla = np.load(\"./Data/p_cpla_ad.npy\")"
   ]
  },
  {
   "cell_type": "code",
   "execution_count": 36,
   "id": "0f0919cb",
   "metadata": {},
   "outputs": [
    {
     "data": {
      "text/plain": [
       "(2914, 2914, 13)"
      ]
     },
     "execution_count": 36,
     "metadata": {},
     "output_type": "execute_result"
    }
   ],
   "source": [
    "len(afx), len(pfx_cpla[0]), len(pfx_dh[0])"
   ]
  },
  {
   "cell_type": "code",
   "execution_count": 37,
   "id": "12cf9422",
   "metadata": {},
   "outputs": [],
   "source": [
    "max_fx_l = 0\n",
    "min_fx_l = 100000\n",
    "\n",
    "for idx in range(len(afx)):\n",
    "    \n",
    "    error_avg = abs(pfx_avg - afx[idx])\n",
    "    error_dh = abs(pfx_dh[idx][0] - afx[idx])\n",
    "    error_cplb = abs(pfx_cplb[0][idx] - afx[idx])\n",
    "    error_cplu = abs(pfx_cplu[0][idx] - afx[idx])\n",
    "    error_cpla = abs(pfx_cpla[0][idx] - afx[idx])\n",
    "    \n",
    "    t_min = min([error_avg, error_dh, error_cplb, error_cplu, error_cpla])\n",
    "    t_max = max([error_avg, error_dh, error_cplb, error_cplu, error_cpla])\n",
    "    \n",
    "    if t_min < min_fx_l:\n",
    "        \n",
    "        min_fx_l = t_min\n",
    "        \n",
    "    if t_max > max_fx_l:\n",
    "        \n",
    "        max_fx_l = t_max\n",
    "    "
   ]
  },
  {
   "cell_type": "code",
   "execution_count": 38,
   "id": "27426389",
   "metadata": {},
   "outputs": [
    {
     "data": {
      "text/plain": [
       "(array([1373.2275], dtype=float32), 2269.381661995158)"
      ]
     },
     "execution_count": 38,
     "metadata": {},
     "output_type": "execute_result"
    }
   ],
   "source": [
    "min_fx_l, max_fx_l"
   ]
  },
  {
   "cell_type": "markdown",
   "id": "6d6ff5c2",
   "metadata": {},
   "source": [
    "# Focal Length (fy)"
   ]
  },
  {
   "cell_type": "code",
   "execution_count": 42,
   "id": "99a99d99",
   "metadata": {},
   "outputs": [
    {
     "name": "stdout",
     "output_type": "stream",
     "text": [
      "gd min loss:  [2.9563904e-05] gd max loss:  [2051.209]\n",
      "ad min loss:  [1520.9558] ad max loss:  [2268.491]\n"
     ]
    }
   ],
   "source": [
    "afy = np.load(\"./Data/fy.npy\")\n",
    "afy = afy[int(len(afy)*0.7):]\n",
    "pfy_avg = np.load(\"./Data/p_avg_gd.npy\")[1]\n",
    "pfy_dh = np.load(\"./Data/p_dh_gd.npy\")\n",
    "pfy_cplb = np.load(\"./Data/p_cplb_gd.npy\")\n",
    "pfy_cplu = np.load(\"./Data/p_cplu_gd.npy\")\n",
    "pfy_cpla = np.load(\"./Data/p_cpla_gd.npy\")\n",
    "\n",
    "max_fy_l = 0\n",
    "min_fy_l = 100000\n",
    "\n",
    "for idx in range(len(afy)):\n",
    "    \n",
    "    error_avg = abs(pfy_avg - afy[idx])\n",
    "    error_dh = abs(pfy_dh[idx][1] - afy[idx])\n",
    "    error_cplb = abs(pfy_cplb[1][idx] - afy[idx])\n",
    "    error_cplu = abs(pfy_cplu[1][idx] - afy[idx])\n",
    "    error_cpla = abs(pfy_cpla[1][idx] - afy[idx])\n",
    "    \n",
    "    t_min = min([error_avg, error_dh, error_cplb, error_cplu, error_cpla])\n",
    "    t_max = max([error_avg, error_dh, error_cplb, error_cplu, error_cpla])\n",
    "    \n",
    "    if t_min < min_fy_l:\n",
    "        \n",
    "        min_fy_l = t_min\n",
    "        \n",
    "    if t_max > max_fy_l:\n",
    "        \n",
    "        max_fy_l = t_max\n",
    "    \n",
    "print (\"gd min loss: \", min_fy_l, \"gd max loss: \", max_fy_l)\n",
    "\n",
    "afy = np.load(\"./Data/fyr.npy\")\n",
    "pfy_avg = np.load(\"./Data/p_avg_ad.npy\")[1]\n",
    "pfy_dh = np.load(\"./Data/p_dh_ad.npy\")\n",
    "pfy_cplb = np.load(\"./Data/p_cplb_ad.npy\")\n",
    "pfy_cplu = np.load(\"./Data/p_cplu_ad.npy\")\n",
    "pfy_cpla = np.load(\"./Data/p_cpla_ad.npy\")\n",
    "\n",
    "max_fy_l = 0\n",
    "min_fy_l = 100000\n",
    "\n",
    "for idx in range(len(afy)):\n",
    "    \n",
    "    error_avg = abs(pfy_avg - afy[idx])\n",
    "    error_dh = abs(pfy_dh[idx][1] - afy[idx])\n",
    "    error_cplb = abs(pfy_cplb[1][idx] - afy[idx])\n",
    "    error_cplu = abs(pfy_cplu[1][idx] - afy[idx])\n",
    "    error_cpla = abs(pfy_cpla[1][idx] - afy[idx])\n",
    "    \n",
    "    t_min = min([error_avg, error_dh, error_cplb, error_cplu, error_cpla])\n",
    "    t_max = max([error_avg, error_dh, error_cplb, error_cplu, error_cpla])\n",
    "    \n",
    "    if t_min < min_fy_l:\n",
    "        \n",
    "        min_fy_l = t_min\n",
    "        \n",
    "    if t_max > max_fy_l:\n",
    "        \n",
    "        max_fy_l = t_max\n",
    "    \n",
    "print (\"ad min loss: \", min_fy_l, \"ad max loss: \", max_fy_l)"
   ]
  },
  {
   "cell_type": "markdown",
   "id": "27437cf0",
   "metadata": {},
   "source": [
    "# u0"
   ]
  },
  {
   "cell_type": "code",
   "execution_count": 43,
   "id": "108e31a8",
   "metadata": {},
   "outputs": [
    {
     "name": "stdout",
     "output_type": "stream",
     "text": [
      "gd min loss:  [1.9073486e-05] gd max loss:  [2178.9983]\n",
      "ad min loss:  [382.5896] ad max loss:  1010.2414896422663\n"
     ]
    }
   ],
   "source": [
    "au0 = np.load(\"./Data/u0.npy\")\n",
    "au0 = au0[int(len(au0)*0.7):]\n",
    "pu0_avg = np.load(\"./Data/p_avg_gd.npy\")[2]\n",
    "pu0_dh = np.load(\"./Data/p_dh_gd.npy\")\n",
    "pu0_cplb = np.load(\"./Data/p_cplb_gd.npy\")\n",
    "pu0_cplu = np.load(\"./Data/p_cplu_gd.npy\")\n",
    "pu0_cpla = np.load(\"./Data/p_cpla_gd.npy\")\n",
    "\n",
    "max_u0_l = 0\n",
    "min_u0_l = 100000\n",
    "\n",
    "for idx in range(len(au0)):\n",
    "    \n",
    "    error_avg = abs(pu0_avg - au0[idx])\n",
    "    error_dh = abs(pu0_dh[idx][2] - au0[idx])\n",
    "    error_cplb = abs(pu0_cplb[2][idx] - au0[idx])\n",
    "    error_cplu = abs(pu0_cplu[2][idx] - au0[idx])\n",
    "    error_cpla = abs(pu0_cpla[2][idx] - au0[idx])\n",
    "    \n",
    "    t_min = min([error_avg, error_dh, error_cplb, error_cplu, error_cpla])\n",
    "    t_max = max([error_avg, error_dh, error_cplb, error_cplu, error_cpla])\n",
    "    \n",
    "    if t_min < min_u0_l:\n",
    "        \n",
    "        min_u0_l = t_min\n",
    "        \n",
    "    if t_max > max_u0_l:\n",
    "        \n",
    "        max_u0_l = t_max\n",
    "    \n",
    "print (\"gd min loss: \", min_u0_l, \"gd max loss: \", max_u0_l)\n",
    "\n",
    "au0 = np.load(\"./Data/u0r.npy\")\n",
    "pu0_avg = np.load(\"./Data/p_avg_ad.npy\")[2]\n",
    "pu0_dh = np.load(\"./Data/p_dh_ad.npy\")\n",
    "pu0_cplb = np.load(\"./Data/p_cplb_ad.npy\")\n",
    "pu0_cplu = np.load(\"./Data/p_cplu_ad.npy\")\n",
    "pu0_cpla = np.load(\"./Data/p_cpla_ad.npy\")\n",
    "\n",
    "max_u0_l = 0\n",
    "min_u0_l = 100000\n",
    "\n",
    "for idx in range(len(au0)):\n",
    "    \n",
    "    error_avg = abs(pu0_avg - au0[idx])\n",
    "    error_dh = abs(pu0_dh[idx][2] - au0[idx])\n",
    "    error_cplb = abs(pu0_cplb[2][idx] - au0[idx])\n",
    "    error_cplu = abs(pu0_cplu[2][idx] - au0[idx])\n",
    "    error_cpla = abs(pu0_cpla[2][idx] - au0[idx])\n",
    "    \n",
    "    t_min = min([error_avg, error_dh, error_cplb, error_cplu, error_cpla])\n",
    "    t_max = max([error_avg, error_dh, error_cplb, error_cplu, error_cpla])\n",
    "    \n",
    "    if t_min < min_u0_l:\n",
    "        \n",
    "        min_u0_l = t_min\n",
    "        \n",
    "    if t_max > max_u0_l:\n",
    "        \n",
    "        max_u0_l = t_max\n",
    "    \n",
    "print (\"ad min loss: \", min_u0_l, \"ad max loss: \", max_u0_l)"
   ]
  },
  {
   "cell_type": "markdown",
   "id": "7b6f0314",
   "metadata": {},
   "source": [
    "# v0"
   ]
  },
  {
   "cell_type": "code",
   "execution_count": 45,
   "id": "eafcbcfe",
   "metadata": {},
   "outputs": [
    {
     "name": "stdout",
     "output_type": "stream",
     "text": [
      "gd min loss:  [3.8146973e-06] gd max loss:  [2385.7239]\n",
      "ad min loss:  [33.014587] ad max loss:  504.2467619374397\n"
     ]
    }
   ],
   "source": [
    "av0 = np.load(\"./Data/v0.npy\")\n",
    "av0 = av0[int(len(av0)*0.7):]\n",
    "pv0_avg = np.load(\"./Data/p_avg_gd.npy\")[3]\n",
    "pv0_dh = np.load(\"./Data/p_dh_gd.npy\")\n",
    "pv0_cplb = np.load(\"./Data/p_cplb_gd.npy\")\n",
    "pv0_cplu = np.load(\"./Data/p_cplu_gd.npy\")\n",
    "pv0_cpla = np.load(\"./Data/p_cpla_gd.npy\")\n",
    "\n",
    "max_v0_l = 0\n",
    "min_v0_l = 100000\n",
    "\n",
    "for idx in range(len(av0)):\n",
    "    \n",
    "    error_avg = abs(pv0_avg - av0[idx])\n",
    "    error_dh = abs(pv0_dh[idx][3] - av0[idx])\n",
    "    error_cplb = abs(pv0_cplb[3][idx] - av0[idx])\n",
    "    error_cplu = abs(pv0_cplu[3][idx] - av0[idx])\n",
    "    error_cpla = abs(pv0_cpla[3][idx] - av0[idx])\n",
    "    \n",
    "    t_min = min([error_avg, error_dh, error_cplb, error_cplu, error_cpla])\n",
    "    t_max = max([error_avg, error_dh, error_cplb, error_cplu, error_cpla])\n",
    "    \n",
    "    if t_min < min_v0_l:\n",
    "        \n",
    "        min_v0_l = t_min\n",
    "        \n",
    "    if t_max > max_v0_l:\n",
    "        \n",
    "        max_v0_l = t_max\n",
    "    \n",
    "print (\"gd min loss: \", min_v0_l, \"gd max loss: \", max_v0_l)\n",
    "\n",
    "av0 = np.load(\"./Data/v0r.npy\")\n",
    "pv0_avg = np.load(\"./Data/p_avg_ad.npy\")[3]\n",
    "pv0_dh = np.load(\"./Data/p_dh_ad.npy\")\n",
    "pv0_cplb = np.load(\"./Data/p_cplb_ad.npy\")\n",
    "pv0_cplu = np.load(\"./Data/p_cplu_ad.npy\")\n",
    "pv0_cpla = np.load(\"./Data/p_cpla_ad.npy\")\n",
    "\n",
    "max_v0_l = 0\n",
    "min_v0_l = 100000\n",
    "\n",
    "for idx in range(len(av0)):\n",
    "    \n",
    "    error_avg = abs(pv0_avg - av0[idx])\n",
    "    error_dh = abs(pv0_dh[idx][3] - av0[idx])\n",
    "    error_cplb = abs(pv0_cplb[3][idx] - av0[idx])\n",
    "    error_cplu = abs(pv0_cplu[3][idx] - av0[idx])\n",
    "    error_cpla = abs(pv0_cpla[3][idx] - av0[idx])\n",
    "    \n",
    "    t_min = min([error_avg, error_dh, error_cplb, error_cplu, error_cpla])\n",
    "    t_max = max([error_avg, error_dh, error_cplb, error_cplu, error_cpla])\n",
    "    \n",
    "    if t_min < min_v0_l:\n",
    "        \n",
    "        min_v0_l = t_min\n",
    "        \n",
    "    if t_max > max_v0_l:\n",
    "        \n",
    "        max_v0_l = t_max\n",
    "    \n",
    "print (\"ad min loss: \", min_v0_l, \"ad max loss: \", max_v0_l)"
   ]
  },
  {
   "cell_type": "markdown",
   "id": "2f88b04e",
   "metadata": {},
   "source": [
    "# baseline"
   ]
  },
  {
   "cell_type": "code",
   "execution_count": 46,
   "id": "a64a3862",
   "metadata": {},
   "outputs": [
    {
     "name": "stdout",
     "output_type": "stream",
     "text": [
      "gd min loss:  [4.7683716e-06] gd max loss:  22.68721567997021\n",
      "ad min loss:  [0.01699097] ad max loss:  23.478404679970208\n"
     ]
    }
   ],
   "source": [
    "ab = np.load(\"./Data/b.npy\")\n",
    "ab = ab[int(len(ab)*0.7):]\n",
    "pb_avg = np.load(\"./Data/p_avg_gd.npy\")[4]\n",
    "pb_dh = np.load(\"./Data/p_dh_gd.npy\")\n",
    "pb_cplb = np.load(\"./Data/p_cplb_gd.npy\")\n",
    "pb_cplu = np.load(\"./Data/p_cplu_gd.npy\")\n",
    "pb_cpla = np.load(\"./Data/p_cpla_gd.npy\")\n",
    "\n",
    "max_b_l = 0\n",
    "min_b_l = 100000\n",
    "\n",
    "for idx in range(len(ab)):\n",
    "    \n",
    "    error_avg = abs(pb_avg - ab[idx])\n",
    "    error_dh = abs(pb_dh[idx][4] - ab[idx])\n",
    "    error_cplb = abs(pb_cplb[4][idx] - ab[idx])\n",
    "    error_cplu = abs(pb_cplu[4][idx] - ab[idx])\n",
    "    error_cpla = abs(pb_cpla[4][idx] - ab[idx])\n",
    "    \n",
    "    t_min = min([error_avg, error_dh, error_cplb, error_cplu, error_cpla])\n",
    "    t_max = max([error_avg, error_dh, error_cplb, error_cplu, error_cpla])\n",
    "    \n",
    "    if t_min < min_b_l:\n",
    "        \n",
    "        min_b_l = t_min\n",
    "        \n",
    "    if t_max > max_b_l:\n",
    "        \n",
    "        max_b_l = t_max\n",
    "    \n",
    "print (\"gd min loss: \", min_b_l, \"gd max loss: \", max_b_l)\n",
    "\n",
    "ab = np.load(\"./Data/br.npy\")\n",
    "pb_avg = np.load(\"./Data/p_avg_ad.npy\")[4]\n",
    "pb_dh = np.load(\"./Data/p_dh_ad.npy\")\n",
    "pb_cplb = np.load(\"./Data/p_cplb_ad.npy\")\n",
    "pb_cplu = np.load(\"./Data/p_cplu_ad.npy\")\n",
    "pb_cpla = np.load(\"./Data/p_cpla_ad.npy\")\n",
    "\n",
    "max_b_l = 0\n",
    "min_b_l = 100000\n",
    "\n",
    "for idx in range(len(ab)):\n",
    "    \n",
    "    error_avg = abs(pb_avg - ab[idx])\n",
    "    error_dh = abs(pb_dh[idx][4] - ab[idx])\n",
    "    error_cplb = abs(pb_cplb[4][idx] - ab[idx])\n",
    "    error_cplu = abs(pb_cplu[4][idx] - ab[idx])\n",
    "    error_cpla = abs(pb_cpla[4][idx] - ab[idx])\n",
    "    \n",
    "    t_min = min([error_avg, error_dh, error_cplb, error_cplu, error_cpla])\n",
    "    t_max = max([error_avg, error_dh, error_cplb, error_cplu, error_cpla])\n",
    "    \n",
    "    if t_min < min_b_l:\n",
    "        \n",
    "        min_b_l = t_min\n",
    "        \n",
    "    if t_max > max_b_l:\n",
    "        \n",
    "        max_b_l = t_max\n",
    "    \n",
    "print (\"ad min loss: \", min_b_l, \"ad max loss: \", max_b_l)"
   ]
  },
  {
   "cell_type": "markdown",
   "id": "5ca5f878",
   "metadata": {},
   "source": [
    "# disparity\n"
   ]
  },
  {
   "cell_type": "code",
   "execution_count": 48,
   "id": "162b3597",
   "metadata": {},
   "outputs": [
    {
     "name": "stdout",
     "output_type": "stream",
     "text": [
      "gd min loss:  [9.536743e-07] gd max loss:  [134.60031]\n",
      "ad min loss:  0.00021930835792538517 ad max loss:  [88.691475]\n"
     ]
    }
   ],
   "source": [
    "ad = np.load(\"./Data/d.npy\")\n",
    "ad = ad[int(len(ad)*0.7):]\n",
    "pd_avg = np.load(\"./Data/p_avg_gd.npy\")[5]\n",
    "pd_dh = np.load(\"./Data/p_dh_gd.npy\")\n",
    "pd_cplb = np.load(\"./Data/p_cplb_gd.npy\")\n",
    "pd_cplu = np.load(\"./Data/p_cplu_gd.npy\")\n",
    "pd_cpla = np.load(\"./Data/p_cpla_gd.npy\")\n",
    "\n",
    "max_d_l = 0\n",
    "min_d_l = 100000\n",
    "\n",
    "for idx in range(len(ad)):\n",
    "    \n",
    "    error_avg = abs(pd_avg - ad[idx])\n",
    "    error_dh = abs(pd_dh[idx][5] - ad[idx])\n",
    "    error_cplb = abs(pd_cplb[5][idx] - ad[idx])\n",
    "    error_cplu = abs(pd_cplu[5][idx] - ad[idx])\n",
    "    error_cpla = abs(pd_cpla[5][idx] - ad[idx])\n",
    "    \n",
    "    t_min = min([error_avg, error_dh, error_cplb, error_cplu, error_cpla])\n",
    "    t_max = max([error_avg, error_dh, error_cplb, error_cplu, error_cpla])\n",
    "    \n",
    "    if t_min < min_d_l:\n",
    "        \n",
    "        min_d_l = t_min\n",
    "        \n",
    "    if t_max > max_d_l:\n",
    "        \n",
    "        max_d_l = t_max\n",
    "    \n",
    "print (\"gd min loss: \", min_d_l, \"gd max loss: \", max_d_l)\n",
    "\n",
    "ad = np.load(\"./Data/dr.npy\")\n",
    "pd_avg = np.load(\"./Data/p_avg_ad.npy\")[5]\n",
    "pd_dh = np.load(\"./Data/p_dh_ad.npy\")\n",
    "pd_cplb = np.load(\"./Data/p_cplb_ad.npy\")\n",
    "pd_cplu = np.load(\"./Data/p_cplu_ad.npy\")\n",
    "pd_cpla = np.load(\"./Data/p_cpla_ad.npy\")\n",
    "\n",
    "max_d_l = 0\n",
    "min_d_l = 100000\n",
    "\n",
    "for idx in range(len(ad)):\n",
    "    \n",
    "    error_avg = abs(pd_avg - ad[idx])\n",
    "    error_dh = abs(pd_dh[idx][5] - ad[idx])\n",
    "    error_cplb = abs(pd_cplb[5][idx] - ad[idx])\n",
    "    error_cplu = abs(pd_cplu[5][idx] - ad[idx])\n",
    "    error_cpla = abs(pd_cpla[5][idx] - ad[idx])\n",
    "    \n",
    "    t_min = min([error_avg, error_dh, error_cplb, error_cplu, error_cpla])\n",
    "    t_max = max([error_avg, error_dh, error_cplb, error_cplu, error_cpla])\n",
    "    \n",
    "    if t_min < min_d_l:\n",
    "        \n",
    "        min_d_l = t_min\n",
    "        \n",
    "    if t_max > max_d_l:\n",
    "        \n",
    "        max_d_l = t_max\n",
    "    \n",
    "print (\"ad min loss: \", min_d_l, \"ad max loss: \", max_d_l)"
   ]
  },
  {
   "cell_type": "markdown",
   "id": "6269d433",
   "metadata": {},
   "source": [
    "# tx\n"
   ]
  },
  {
   "cell_type": "code",
   "execution_count": 50,
   "id": "46f557e3",
   "metadata": {},
   "outputs": [
    {
     "name": "stdout",
     "output_type": "stream",
     "text": [
      "gd min loss:  2.384185791015625e-06 gd max loss:  22.68721567997021\n",
      "ad min loss:  2.6702880859375e-05 ad max loss:  21.68721567997021\n"
     ]
    }
   ],
   "source": [
    "atx = np.load(\"./Data/tx.npy\")\n",
    "atx = atx[int(len(atx)*0.7):]\n",
    "ptx_avg = np.load(\"./Data/p_avg_gd.npy\")[6]\n",
    "ptx_dh = np.load(\"./Data/p_dh_gd.npy\")\n",
    "ptx_cplb = np.load(\"./Data/p_cplb_gd.npy\")\n",
    "ptx_cplu = np.load(\"./Data/p_cplu_gd.npy\")\n",
    "ptx_cpla = np.load(\"./Data/p_cpla_gd.npy\")\n",
    "\n",
    "max_tx_l = 0\n",
    "min_tx_l = 100000\n",
    "\n",
    "for idx in range(len(atx)):\n",
    "    \n",
    "    error_avg = abs(ptx_avg - atx[idx])\n",
    "    error_dh = abs(ptx_dh[idx][6] - atx[idx])\n",
    "    error_cplb = abs(ptx_cplb[6][idx] - atx[idx])\n",
    "    error_cplu = abs(ptx_cplu[6][idx] - atx[idx])\n",
    "    error_cpla = abs(ptx_cpla[6][idx] - atx[idx])\n",
    "    \n",
    "    t_min = min([error_avg, error_dh, error_cplb, error_cplu, error_cpla])\n",
    "    t_max = max([error_avg, error_dh, error_cplb, error_cplu, error_cpla])\n",
    "    \n",
    "    if t_min < min_tx_l:\n",
    "        \n",
    "        min_tx_l = t_min\n",
    "        \n",
    "    if t_max > max_tx_l:\n",
    "        \n",
    "        max_tx_l = t_max\n",
    "    \n",
    "print (\"gd min loss: \", min_tx_l, \"gd max loss: \", max_tx_l)\n",
    "\n",
    "atx = np.load(\"./Data/txr.npy\")\n",
    "ptx_avg = np.load(\"./Data/p_avg_ad.npy\")[6]\n",
    "ptx_dh = np.load(\"./Data/p_dh_ad.npy\")\n",
    "ptx_cplb = np.load(\"./Data/p_cplb_ad.npy\")\n",
    "ptx_cplu = np.load(\"./Data/p_cplu_ad.npy\")\n",
    "ptx_cpla = np.load(\"./Data/p_cpla_ad.npy\")\n",
    "\n",
    "max_tx_l = 0\n",
    "min_tx_l = 100000\n",
    "\n",
    "for idx in range(len(atx)):\n",
    "    \n",
    "    error_avg = abs(ptx_avg - atx[idx])\n",
    "    error_dh = abs(ptx_dh[idx][6] - atx[idx])\n",
    "    error_cplb = abs(ptx_cplb[6][idx] - atx[idx])\n",
    "    error_cplu = abs(ptx_cplu[6][idx] - atx[idx])\n",
    "    error_cpla = abs(ptx_cpla[6][idx] - atx[idx])\n",
    "    \n",
    "    t_min = min([error_avg, error_dh, error_cplb, error_cplu, error_cpla])\n",
    "    t_max = max([error_avg, error_dh, error_cplb, error_cplu, error_cpla])\n",
    "    \n",
    "    if t_min < min_tx_l:\n",
    "        \n",
    "        min_tx_l = t_min\n",
    "        \n",
    "    if t_max > max_tx_l:\n",
    "        \n",
    "        max_tx_l = t_max\n",
    "    \n",
    "print (\"ad min loss: \", min_tx_l, \"ad max loss: \", max_tx_l)"
   ]
  },
  {
   "cell_type": "markdown",
   "id": "79a2e68d",
   "metadata": {},
   "source": [
    "# ty\n"
   ]
  },
  {
   "cell_type": "code",
   "execution_count": 51,
   "id": "1ccf0d05",
   "metadata": {},
   "outputs": [
    {
     "name": "stdout",
     "output_type": "stream",
     "text": [
      "gd min loss:  [2.3841858e-07] gd max loss:  33.11693576309983\n",
      "ad min loss:  [0.8303014] ad max loss:  33.99193576309983\n"
     ]
    }
   ],
   "source": [
    "aty = np.load(\"./Data/ty.npy\")\n",
    "aty = aty[int(len(aty)*0.7):]\n",
    "pty_avg = np.load(\"./Data/p_avg_gd.npy\")[7]\n",
    "pty_dh = np.load(\"./Data/p_dh_gd.npy\")\n",
    "pty_cplb = np.load(\"./Data/p_cplb_gd.npy\")\n",
    "pty_cplu = np.load(\"./Data/p_cplu_gd.npy\")\n",
    "pty_cpla = np.load(\"./Data/p_cpla_gd.npy\")\n",
    "\n",
    "max_ty_l = 0\n",
    "min_ty_l = 100000\n",
    "\n",
    "for idx in range(len(aty)):\n",
    "    \n",
    "    error_avg = abs(pty_avg - aty[idx])\n",
    "    error_dh = abs(pty_dh[idx][7] - aty[idx])\n",
    "    error_cplb = abs(pty_cplb[7][idx] - aty[idx])\n",
    "    error_cplu = abs(pty_cplu[7][idx] - aty[idx])\n",
    "    error_cpla = abs(pty_cpla[7][idx] - aty[idx])\n",
    "    \n",
    "    t_min = min([error_avg, error_dh, error_cplb, error_cplu, error_cpla])\n",
    "    t_max = max([error_avg, error_dh, error_cplb, error_cplu, error_cpla])\n",
    "    \n",
    "    if t_min < min_ty_l:\n",
    "        \n",
    "        min_ty_l = t_min\n",
    "        \n",
    "    if t_max > max_ty_l:\n",
    "        \n",
    "        max_ty_l = t_max\n",
    "    \n",
    "print (\"gd min loss: \", min_ty_l, \"gd max loss: \", max_ty_l)\n",
    "\n",
    "aty = np.load(\"./Data/tyr.npy\")\n",
    "pty_avg = np.load(\"./Data/p_avg_ad.npy\")[7]\n",
    "pty_dh = np.load(\"./Data/p_dh_ad.npy\")\n",
    "pty_cplb = np.load(\"./Data/p_cplb_ad.npy\")\n",
    "pty_cplu = np.load(\"./Data/p_cplu_ad.npy\")\n",
    "pty_cpla = np.load(\"./Data/p_cpla_ad.npy\")\n",
    "\n",
    "max_ty_l = 0\n",
    "min_ty_l = 100000\n",
    "\n",
    "for idx in range(len(aty)):\n",
    "    \n",
    "    error_avg = abs(pty_avg - aty[idx])\n",
    "    error_dh = abs(pty_dh[idx][7] - aty[idx])\n",
    "    error_cplb = abs(pty_cplb[7][idx] - aty[idx])\n",
    "    error_cplu = abs(pty_cplu[7][idx] - aty[idx])\n",
    "    error_cpla = abs(pty_cpla[7][idx] - aty[idx])\n",
    "    \n",
    "    t_min = min([error_avg, error_dh, error_cplb, error_cplu, error_cpla])\n",
    "    t_max = max([error_avg, error_dh, error_cplb, error_cplu, error_cpla])\n",
    "    \n",
    "    if t_min < min_ty_l:\n",
    "        \n",
    "        min_ty_l = t_min\n",
    "        \n",
    "    if t_max > max_ty_l:\n",
    "        \n",
    "        max_ty_l = t_max\n",
    "    \n",
    "print (\"ad min loss: \", min_ty_l, \"ad max loss: \", max_ty_l)"
   ]
  },
  {
   "cell_type": "markdown",
   "id": "8a3ca9d8",
   "metadata": {},
   "source": [
    "# tz"
   ]
  },
  {
   "cell_type": "code",
   "execution_count": 52,
   "id": "e0bb27c0",
   "metadata": {},
   "outputs": [
    {
     "name": "stdout",
     "output_type": "stream",
     "text": [
      "gd min loss:  [2.3841858e-06] gd max loss:  17.20185265614626\n",
      "ad min loss:  0.0011047315597534357 ad max loss:  16.97185265614626\n"
     ]
    }
   ],
   "source": [
    "atz = np.load(\"./Data/tz.npy\")\n",
    "atz = atz[int(len(atz)*0.7):]\n",
    "ptz_avg = np.load(\"./Data/p_avg_gd.npy\")[8]\n",
    "ptz_dh = np.load(\"./Data/p_dh_gd.npy\")\n",
    "ptz_cplb = np.load(\"./Data/p_cplb_gd.npy\")\n",
    "ptz_cplu = np.load(\"./Data/p_cplu_gd.npy\")\n",
    "ptz_cpla = np.load(\"./Data/p_cpla_gd.npy\")\n",
    "\n",
    "max_tz_l = 0\n",
    "min_tz_l = 100000\n",
    "\n",
    "for idx in range(len(atz)):\n",
    "    \n",
    "    error_avg = abs(ptz_avg - atz[idx])\n",
    "    error_dh = abs(ptz_dh[idx][8] - atz[idx])\n",
    "    error_cplb = abs(ptz_cplb[8][idx] - atz[idx])\n",
    "    error_cplu = abs(ptz_cplu[8][idx] - atz[idx])\n",
    "    error_cpla = abs(ptz_cpla[8][idx] - atz[idx])\n",
    "    \n",
    "    t_min = min([error_avg, error_dh, error_cplb, error_cplu, error_cpla])\n",
    "    t_max = max([error_avg, error_dh, error_cplb, error_cplu, error_cpla])\n",
    "    \n",
    "    if t_min < min_tz_l:\n",
    "        \n",
    "        min_tz_l = t_min\n",
    "        \n",
    "    if t_max > max_tz_l:\n",
    "        \n",
    "        max_tz_l = t_max\n",
    "    \n",
    "print (\"gd min loss: \", min_tz_l, \"gd max loss: \", max_tz_l)\n",
    "\n",
    "atz = np.load(\"./Data/tzr.npy\")\n",
    "ptz_avg = np.load(\"./Data/p_avg_ad.npy\")[8]\n",
    "ptz_dh = np.load(\"./Data/p_dh_ad.npy\")\n",
    "ptz_cplb = np.load(\"./Data/p_cplb_ad.npy\")\n",
    "ptz_cplu = np.load(\"./Data/p_cplu_ad.npy\")\n",
    "ptz_cpla = np.load(\"./Data/p_cpla_ad.npy\")\n",
    "\n",
    "max_tz_l = 0\n",
    "min_tz_l = 100000\n",
    "\n",
    "for idx in range(len(atz)):\n",
    "    \n",
    "    error_avg = abs(ptz_avg - atz[idx])\n",
    "    error_dh = abs(ptz_dh[idx][8] - atz[idx])\n",
    "    error_cplb = abs(ptz_cplb[8][idx] - atz[idx])\n",
    "    error_cplu = abs(ptz_cplu[8][idx] - atz[idx])\n",
    "    error_cpla = abs(ptz_cpla[8][idx] - atz[idx])\n",
    "    \n",
    "    t_min = min([error_avg, error_dh, error_cplb, error_cplu, error_cpla])\n",
    "    t_max = max([error_avg, error_dh, error_cplb, error_cplu, error_cpla])\n",
    "    \n",
    "    if t_min < min_tz_l:\n",
    "        \n",
    "        min_tz_l = t_min\n",
    "        \n",
    "    if t_max > max_tz_l:\n",
    "        \n",
    "        max_tz_l = t_max\n",
    "    \n",
    "print (\"ad min loss: \", min_tz_l, \"ad max loss: \", max_tz_l)"
   ]
  },
  {
   "cell_type": "markdown",
   "id": "43793c78",
   "metadata": {},
   "source": [
    "# pitch"
   ]
  },
  {
   "cell_type": "code",
   "execution_count": 53,
   "id": "964c3233",
   "metadata": {},
   "outputs": [
    {
     "name": "stdout",
     "output_type": "stream",
     "text": [
      "gd min loss:  4.57763671875e-05 gd max loss:  [4502.9224]\n",
      "ad min loss:  [10.154588] ad max loss:  [790.04095]\n"
     ]
    }
   ],
   "source": [
    "ap = np.load(\"./Data/p.npy\")\n",
    "ap = ap[int(len(ap)*0.7):]\n",
    "pp_avg = np.load(\"./Data/p_avg_gd.npy\")[9]\n",
    "pp_dh = np.load(\"./Data/p_dh_gd.npy\")\n",
    "pp_cplb = np.load(\"./Data/p_cplb_gd.npy\")\n",
    "pp_cplu = np.load(\"./Data/p_cplu_gd.npy\")\n",
    "pp_cpla = np.load(\"./Data/p_cpla_gd.npy\")\n",
    "\n",
    "max_p_l = 0\n",
    "min_p_l = 100000\n",
    "\n",
    "for idx in range(len(ap)):\n",
    "    \n",
    "    error_avg = abs(pp_avg - ap[idx])\n",
    "    error_dh = abs(pp_dh[idx][9] - ap[idx])\n",
    "    error_cplb = abs(pp_cplb[9][idx] - ap[idx])\n",
    "    error_cplu = abs(pp_cplu[9][idx] - ap[idx])\n",
    "    error_cpla = abs(pp_cpla[9][idx] - ap[idx])\n",
    "    \n",
    "    t_min = min([error_avg, error_dh, error_cplb, error_cplu, error_cpla])\n",
    "    t_max = max([error_avg, error_dh, error_cplb, error_cplu, error_cpla])\n",
    "    \n",
    "    if t_min < min_p_l:\n",
    "        \n",
    "        min_p_l = t_min\n",
    "        \n",
    "    if t_max > max_p_l:\n",
    "        \n",
    "        max_p_l = t_max\n",
    "    \n",
    "print (\"gd min loss: \", min_p_l, \"gd max loss: \", max_p_l)\n",
    "\n",
    "ap = np.load(\"./Data/pr.npy\")\n",
    "pp_avg = np.load(\"./Data/p_avg_ad.npy\")[9]\n",
    "pp_dh = np.load(\"./Data/p_dh_ad.npy\")\n",
    "pp_cplb = np.load(\"./Data/p_cplb_ad.npy\")\n",
    "pp_cplu = np.load(\"./Data/p_cplu_ad.npy\")\n",
    "pp_cpla = np.load(\"./Data/p_cpla_ad.npy\")\n",
    "\n",
    "max_p_l = 0\n",
    "min_p_l = 100000\n",
    "\n",
    "for idx in range(len(ap)):\n",
    "    \n",
    "    error_avg = abs(pp_avg - ap[idx])\n",
    "    error_dh = abs(pp_dh[idx][9] - ap[idx])\n",
    "    error_cplb = abs(pp_cplb[9][idx] - ap[idx])\n",
    "    error_cplu = abs(pp_cplu[9][idx] - ap[idx])\n",
    "    error_cpla = abs(pp_cpla[9][idx] - ap[idx])\n",
    "    \n",
    "    t_min = min([error_avg, error_dh, error_cplb, error_cplu, error_cpla])\n",
    "    t_max = max([error_avg, error_dh, error_cplb, error_cplu, error_cpla])\n",
    "    \n",
    "    if t_min < min_p_l:\n",
    "        \n",
    "        min_p_l = t_min\n",
    "        \n",
    "    if t_max > max_p_l:\n",
    "        \n",
    "        max_p_l = t_max\n",
    "    \n",
    "print (\"ad min loss: \", min_p_l, \"ad max loss: \", max_p_l)"
   ]
  },
  {
   "cell_type": "markdown",
   "id": "7140b792",
   "metadata": {},
   "source": [
    "# xw\n"
   ]
  },
  {
   "cell_type": "code",
   "execution_count": 54,
   "id": "94c012dd",
   "metadata": {},
   "outputs": [
    {
     "name": "stdout",
     "output_type": "stream",
     "text": [
      "gd min loss:  5.219264654243716e-06 gd max loss:  [386.4486]\n",
      "ad min loss:  [0.00066566] ad max loss:  [6457.3228]\n"
     ]
    }
   ],
   "source": [
    "axw = np.load(\"./Data/x.npy\")\n",
    "axw = axw[int(len(axw)*0.7):]\n",
    "pxw_avg = np.load(\"./Data/p_avg_gd.npy\")[10]\n",
    "pxw_dh = np.load(\"./Data/p_dh_gd.npy\")\n",
    "pxw_cplb = np.load(\"./Data/p_cplb_gd.npy\")\n",
    "pxw_cplu = np.load(\"./Data/p_cplu_gd.npy\")\n",
    "pxw_cpla = np.load(\"./Data/p_cpla_gd.npy\")\n",
    "\n",
    "max_xw_l = 0\n",
    "min_xw_l = 100000\n",
    "\n",
    "for idx in range(len(axw)):\n",
    "    \n",
    "    error_avg = abs(pxw_avg - axw[idx])\n",
    "    error_dh = abs(pxw_dh[idx][10] - axw[idx])\n",
    "    error_cplb = abs(pxw_cplb[10][idx] - axw[idx])\n",
    "    error_cplu = abs(pxw_cplu[10][idx] - axw[idx])\n",
    "    error_cpla = abs(pxw_cpla[10][idx] - axw[idx])\n",
    "    \n",
    "    t_min = min([error_avg, error_dh, error_cplb, error_cplu, error_cpla])\n",
    "    t_max = max([error_avg, error_dh, error_cplb, error_cplu, error_cpla])\n",
    "    \n",
    "    if t_min < min_xw_l:\n",
    "        \n",
    "        min_xw_l = t_min\n",
    "        \n",
    "    if t_max > max_xw_l:\n",
    "        \n",
    "        max_xw_l = t_max\n",
    "    \n",
    "print (\"gd min loss: \", min_xw_l, \"gd max loss: \", max_xw_l)\n",
    "\n",
    "axw = np.load(\"./Data/xr.npy\")\n",
    "pxw_avg = np.load(\"./Data/p_avg_ad.npy\")[10]\n",
    "pxw_dh = np.load(\"./Data/p_dh_ad.npy\")\n",
    "pxw_cplb = np.load(\"./Data/p_cplb_ad.npy\")\n",
    "pxw_cplu = np.load(\"./Data/p_cplu_ad.npy\")\n",
    "pxw_cpla = np.load(\"./Data/p_cpla_ad.npy\")\n",
    "\n",
    "max_xw_l = 0\n",
    "min_xw_l = 100000\n",
    "\n",
    "for idx in range(len(axw)):\n",
    "    \n",
    "    error_avg = abs(pxw_avg - axw[idx])\n",
    "    error_dh = abs(pxw_dh[idx][10] - axw[idx])\n",
    "    error_cplb = abs(pxw_cplb[10][idx] - axw[idx])\n",
    "    error_cplu = abs(pxw_cplu[10][idx] - axw[idx])\n",
    "    error_cpla = abs(pxw_cpla[10][idx] - axw[idx])\n",
    "    \n",
    "    t_min = min([error_avg, error_dh, error_cplb, error_cplu, error_cpla])\n",
    "    t_max = max([error_avg, error_dh, error_cplb, error_cplu, error_cpla])\n",
    "    \n",
    "    if t_min < min_xw_l:\n",
    "        \n",
    "        min_xw_l = t_min\n",
    "        \n",
    "    if t_max > max_xw_l:\n",
    "        \n",
    "        max_xw_l = t_max\n",
    "    \n",
    "print (\"ad min loss: \", min_xw_l, \"ad max loss: \", max_xw_l)"
   ]
  },
  {
   "cell_type": "markdown",
   "id": "5dc195d4",
   "metadata": {},
   "source": [
    "# yw"
   ]
  },
  {
   "cell_type": "code",
   "execution_count": 55,
   "id": "5b178aa3",
   "metadata": {},
   "outputs": [
    {
     "name": "stdout",
     "output_type": "stream",
     "text": [
      "gd min loss:  [3.8146973e-06] gd max loss:  [1835.1849]\n",
      "ad min loss:  0.0036399107805458186 ad max loss:  [2944.4214]\n"
     ]
    }
   ],
   "source": [
    "ayw = np.load(\"./Data/y.npy\")\n",
    "ayw = ayw[int(len(ayw)*0.7):]\n",
    "pyw_avg = np.load(\"./Data/p_avg_gd.npy\")[11]\n",
    "pyw_dh = np.load(\"./Data/p_dh_gd.npy\")\n",
    "pyw_cplb = np.load(\"./Data/p_cplb_gd.npy\")\n",
    "pyw_cplu = np.load(\"./Data/p_cplu_gd.npy\")\n",
    "pyw_cpla = np.load(\"./Data/p_cpla_gd.npy\")\n",
    "\n",
    "max_yw_l = 0\n",
    "min_yw_l = 100000\n",
    "\n",
    "for idx in range(len(ayw)):\n",
    "    \n",
    "    error_avg = abs(pyw_avg - ayw[idx])\n",
    "    error_dh = abs(pyw_dh[idx][11] - ayw[idx])\n",
    "    error_cplb = abs(pyw_cplb[11][idx] - ayw[idx])\n",
    "    error_cplu = abs(pyw_cplu[11][idx] - ayw[idx])\n",
    "    error_cpla = abs(pyw_cpla[11][idx] - ayw[idx])\n",
    "    \n",
    "    t_min = min([error_avg, error_dh, error_cplb, error_cplu, error_cpla])\n",
    "    t_max = max([error_avg, error_dh, error_cplb, error_cplu, error_cpla])\n",
    "    \n",
    "    if t_min < min_yw_l:\n",
    "        \n",
    "        min_yw_l = t_min\n",
    "        \n",
    "    if t_max > max_yw_l:\n",
    "        \n",
    "        max_yw_l = t_max\n",
    "    \n",
    "print (\"gd min loss: \", min_yw_l, \"gd max loss: \", max_yw_l)\n",
    "\n",
    "ayw = np.load(\"./Data/yr.npy\")\n",
    "pyw_avg = np.load(\"./Data/p_avg_ad.npy\")[11]\n",
    "pyw_dh = np.load(\"./Data/p_dh_ad.npy\")\n",
    "pyw_cplb = np.load(\"./Data/p_cplb_ad.npy\")\n",
    "pyw_cplu = np.load(\"./Data/p_cplu_ad.npy\")\n",
    "pyw_cpla = np.load(\"./Data/p_cpla_ad.npy\")\n",
    "\n",
    "max_yw_l = 0\n",
    "min_yw_l = 100000\n",
    "\n",
    "for idx in range(len(ayw)):\n",
    "    \n",
    "    error_avg = abs(pyw_avg - ayw[idx])\n",
    "    error_dh = abs(pyw_dh[idx][11] - ayw[idx])\n",
    "    error_cplb = abs(pyw_cplb[11][idx] - ayw[idx])\n",
    "    error_cplu = abs(pyw_cplu[11][idx] - ayw[idx])\n",
    "    error_cpla = abs(pyw_cpla[11][idx] - ayw[idx])\n",
    "    \n",
    "    t_min = min([error_avg, error_dh, error_cplb, error_cplu, error_cpla])\n",
    "    t_max = max([error_avg, error_dh, error_cplb, error_cplu, error_cpla])\n",
    "    \n",
    "    if t_min < min_yw_l:\n",
    "        \n",
    "        min_yw_l = t_min\n",
    "        \n",
    "    if t_max > max_yw_l:\n",
    "        \n",
    "        max_yw_l = t_max\n",
    "    \n",
    "print (\"ad min loss: \", min_yw_l, \"ad max loss: \", max_yw_l)"
   ]
  },
  {
   "cell_type": "markdown",
   "id": "b825bd87",
   "metadata": {},
   "source": [
    "# zw"
   ]
  },
  {
   "cell_type": "code",
   "execution_count": 56,
   "id": "a9eab211",
   "metadata": {},
   "outputs": [
    {
     "name": "stdout",
     "output_type": "stream",
     "text": [
      "gd min loss:  [0.00011349] gd max loss:  [339.17166]\n",
      "ad min loss:  [0.01162195] ad max loss:  [1391.999]\n"
     ]
    }
   ],
   "source": [
    "azw = np.load(\"./Data/z.npy\")\n",
    "azw = azw[int(len(azw)*0.7):]\n",
    "pzw_avg = np.load(\"./Data/p_avg_gd.npy\")[12]\n",
    "pzw_dh = np.load(\"./Data/p_dh_gd.npy\")\n",
    "pzw_cplb = np.load(\"./Data/p_cplb_gd.npy\")\n",
    "pzw_cplu = np.load(\"./Data/p_cplu_gd.npy\")\n",
    "pzw_cpla = np.load(\"./Data/p_cpla_gd.npy\")\n",
    "\n",
    "max_zw_l = 0\n",
    "min_zw_l = 100000\n",
    "\n",
    "for idx in range(len(azw)):\n",
    "    \n",
    "    error_avg = abs(pzw_avg - azw[idx])\n",
    "    error_dh = abs(pzw_dh[idx][12] - azw[idx])\n",
    "    error_cplb = abs(pzw_cplb[12][idx] - azw[idx])\n",
    "    error_cplu = abs(pzw_cplu[12][idx] - azw[idx])\n",
    "    error_cpla = abs(pzw_cpla[12][idx] - azw[idx])\n",
    "    \n",
    "    t_min = min([error_avg, error_dh, error_cplb, error_cplu, error_cpla])\n",
    "    t_max = max([error_avg, error_dh, error_cplb, error_cplu, error_cpla])\n",
    "    \n",
    "    if t_min < min_zw_l:\n",
    "        \n",
    "        min_zw_l = t_min\n",
    "        \n",
    "    if t_max > max_zw_l:\n",
    "        \n",
    "        max_zw_l = t_max\n",
    "    \n",
    "print (\"gd min loss: \", min_zw_l, \"gd max loss: \", max_zw_l)\n",
    "\n",
    "azw = np.load(\"./Data/zr.npy\")\n",
    "pzw_avg = np.load(\"./Data/p_avg_ad.npy\")[12]\n",
    "pzw_dh = np.load(\"./Data/p_dh_ad.npy\")\n",
    "pzw_cplb = np.load(\"./Data/p_cplb_ad.npy\")\n",
    "pzw_cplu = np.load(\"./Data/p_cplu_ad.npy\")\n",
    "pzw_cpla = np.load(\"./Data/p_cpla_ad.npy\")\n",
    "\n",
    "max_zw_l = 0\n",
    "min_zw_l = 100000\n",
    "\n",
    "for idx in range(len(azw)):\n",
    "    \n",
    "    error_avg = abs(pzw_avg - azw[idx])\n",
    "    error_dh = abs(pzw_dh[idx][12] - azw[idx])\n",
    "    error_cplb = abs(pzw_cplb[12][idx] - azw[idx])\n",
    "    error_cplu = abs(pzw_cplu[12][idx] - azw[idx])\n",
    "    error_cpla = abs(pzw_cpla[12][idx] - azw[idx])\n",
    "    \n",
    "    t_min = min([error_avg, error_dh, error_cplb, error_cplu, error_cpla])\n",
    "    t_max = max([error_avg, error_dh, error_cplb, error_cplu, error_cpla])\n",
    "    \n",
    "    if t_min < min_zw_l:\n",
    "        \n",
    "        min_zw_l = t_min\n",
    "        \n",
    "    if t_max > max_zw_l:\n",
    "        \n",
    "        max_zw_l = t_max\n",
    "    \n",
    "print (\"ad min loss: \", min_zw_l, \"ad max loss: \", max_zw_l)"
   ]
  },
  {
   "cell_type": "markdown",
   "id": "1663e1c3",
   "metadata": {},
   "source": [
    "# Mean values for Normalized Mean Absolute Error"
   ]
  },
  {
   "cell_type": "markdown",
   "id": "efe60a09",
   "metadata": {},
   "source": [
    "## Generated Data"
   ]
  },
  {
   "cell_type": "markdown",
   "id": "04bfa04a",
   "metadata": {},
   "source": [
    "### Fx"
   ]
  },
  {
   "cell_type": "code",
   "execution_count": 2,
   "id": "13a34cdd",
   "metadata": {},
   "outputs": [],
   "source": [
    "afx = np.load(\"./Data/fx.npy\")\n",
    "afx = afx[int(len(afx)*0.7):]\n",
    "\n",
    "mean_fx = 0\n",
    "\n",
    "for idx in range(len(afx)):\n",
    "    \n",
    "    mean_fx += abs(afx[idx])\n",
    "    \n",
    "mean_fx /= len(afx)"
   ]
  },
  {
   "cell_type": "code",
   "execution_count": 3,
   "id": "63c76e9d",
   "metadata": {},
   "outputs": [
    {
     "data": {
      "text/plain": [
       "84.70939817976283"
      ]
     },
     "execution_count": 3,
     "metadata": {},
     "output_type": "execute_result"
    }
   ],
   "source": [
    "mean_fx"
   ]
  },
  {
   "cell_type": "markdown",
   "id": "13312af4",
   "metadata": {},
   "source": [
    "## Real Data"
   ]
  },
  {
   "cell_type": "markdown",
   "id": "4a8c619c",
   "metadata": {},
   "source": [
    "### Fx"
   ]
  },
  {
   "cell_type": "code",
   "execution_count": 4,
   "id": "7d99c707",
   "metadata": {},
   "outputs": [],
   "source": [
    "afx = np.load(\"./Data/fxr.npy\")\n",
    "\n",
    "mean_fx = 0\n",
    "\n",
    "for idx in range(len(afx)):\n",
    "    \n",
    "    mean_fx += abs(afx[idx])\n",
    "    \n",
    "mean_fx /= len(afx)"
   ]
  },
  {
   "cell_type": "code",
   "execution_count": 5,
   "id": "e06485a8",
   "metadata": {},
   "outputs": [
    {
     "data": {
      "text/plain": [
       "2282.8645019999262"
      ]
     },
     "execution_count": 5,
     "metadata": {},
     "output_type": "execute_result"
    }
   ],
   "source": [
    "mean_fx"
   ]
  },
  {
   "cell_type": "markdown",
   "id": "4799261c",
   "metadata": {},
   "source": [
    "# Fy"
   ]
  },
  {
   "cell_type": "code",
   "execution_count": 6,
   "id": "6b8733d0",
   "metadata": {},
   "outputs": [
    {
     "name": "stdout",
     "output_type": "stream",
     "text": [
      "mean generated fy:  84.70939817976283\n",
      "mean real fy:  2281.794340454267\n"
     ]
    }
   ],
   "source": [
    "afy = np.load(\"./Data/fy.npy\")\n",
    "afy = afy[int(len(afy)*0.7):]\n",
    "\n",
    "mean_fy = 0\n",
    "\n",
    "for idx in range(len(afy)):\n",
    "    \n",
    "    mean_fy += abs(afy[idx])\n",
    "    \n",
    "mean_fy /= len(afy)\n",
    "\n",
    "print (\"mean generated fy: \", mean_fy)\n",
    "\n",
    "afy = np.load(\"./Data/fyr.npy\")\n",
    "\n",
    "mean_fy = 0\n",
    "\n",
    "for idx in range(len(afy)):\n",
    "    \n",
    "    mean_fy += abs(afy[idx])\n",
    "    \n",
    "mean_fy /= len(afy)\n",
    "\n",
    "print (\"mean real fy: \", mean_fy)"
   ]
  },
  {
   "cell_type": "markdown",
   "id": "5f7938ab",
   "metadata": {},
   "source": [
    "# U0"
   ]
  },
  {
   "cell_type": "code",
   "execution_count": 7,
   "id": "61759472",
   "metadata": {},
   "outputs": [
    {
     "name": "stdout",
     "output_type": "stream",
     "text": [
      "mean generated u0:  56.0\n",
      "mean real u0:  1042.0412599999809\n"
     ]
    }
   ],
   "source": [
    "au0 = np.load(\"./Data/u0.npy\")\n",
    "au0 = au0[int(len(au0)*0.7):]\n",
    "\n",
    "mean_u0 = 0\n",
    "\n",
    "for idx in range(len(au0)):\n",
    "    \n",
    "    mean_u0 += abs(au0[idx])\n",
    "    \n",
    "mean_u0 /= len(au0)\n",
    "\n",
    "print (\"mean generated u0: \", mean_u0)\n",
    "\n",
    "au0 = np.load(\"./Data/u0r.npy\")\n",
    "\n",
    "mean_u0 = 0\n",
    "\n",
    "for idx in range(len(au0)):\n",
    "    \n",
    "    mean_u0 += abs(au0[idx])\n",
    "    \n",
    "mean_u0 /= len(au0)\n",
    "\n",
    "print (\"mean real u0: \", mean_u0)"
   ]
  },
  {
   "cell_type": "markdown",
   "id": "be891007",
   "metadata": {},
   "source": [
    "# V0"
   ]
  },
  {
   "cell_type": "code",
   "execution_count": 8,
   "id": "d7bc95f7",
   "metadata": {},
   "outputs": [
    {
     "name": "stdout",
     "output_type": "stream",
     "text": [
      "mean generated v0:  56.0\n",
      "mean real v0:  529.8880620000258\n"
     ]
    }
   ],
   "source": [
    "av0 = np.load(\"./Data/v0.npy\")\n",
    "av0 = av0[int(len(av0)*0.7):]\n",
    "\n",
    "mean_v0 = 0\n",
    "\n",
    "for idx in range(len(av0)):\n",
    "    \n",
    "    mean_v0 += abs(av0[idx])\n",
    "    \n",
    "mean_v0 /= len(av0)\n",
    "\n",
    "print (\"mean generated v0: \", mean_v0)\n",
    "\n",
    "av0 = np.load(\"./Data/v0r.npy\")\n",
    "\n",
    "mean_v0 = 0\n",
    "\n",
    "for idx in range(len(av0)):\n",
    "    \n",
    "    mean_v0 += abs(av0[idx])\n",
    "    \n",
    "mean_v0 /= len(av0)\n",
    "\n",
    "print (\"mean real v0: \", mean_v0)"
   ]
  },
  {
   "cell_type": "markdown",
   "id": "40962476",
   "metadata": {},
   "source": [
    "# Baseline"
   ]
  },
  {
   "cell_type": "code",
   "execution_count": 9,
   "id": "601555e8",
   "metadata": {},
   "outputs": [
    {
     "name": "stdout",
     "output_type": "stream",
     "text": [
      "mean generated b:  3.1362834089762988\n",
      "mean real b:  0.20881100000000483\n"
     ]
    }
   ],
   "source": [
    "ab = np.load(\"./Data/b.npy\")\n",
    "ab = ab[int(len(ab)*0.7):]\n",
    "\n",
    "mean_b = 0\n",
    "\n",
    "for idx in range(len(ab)):\n",
    "    \n",
    "    mean_b += abs(ab[idx])\n",
    "    \n",
    "mean_b /= len(ab)\n",
    "\n",
    "print (\"mean generated b: \", mean_b)\n",
    "\n",
    "ab = np.load(\"./Data/br.npy\")\n",
    "\n",
    "mean_b = 0\n",
    "\n",
    "for idx in range(len(ab)):\n",
    "    \n",
    "    mean_b += abs(ab[idx])\n",
    "    \n",
    "mean_b /= len(ab)\n",
    "\n",
    "print (\"mean real b: \", mean_b)"
   ]
  },
  {
   "cell_type": "markdown",
   "id": "d622f411",
   "metadata": {},
   "source": [
    "# Disparity"
   ]
  },
  {
   "cell_type": "code",
   "execution_count": 10,
   "id": "2aa740fc",
   "metadata": {},
   "outputs": [
    {
     "name": "stdout",
     "output_type": "stream",
     "text": [
      "mean generated d:  5.6359135359419765\n",
      "mean real d:  21.47887086050103\n"
     ]
    }
   ],
   "source": [
    "ad = np.load(\"./Data/d.npy\")\n",
    "ad = ad[int(len(ad)*0.7):]\n",
    "\n",
    "mean_d = 0\n",
    "\n",
    "for idx in range(len(ad)):\n",
    "    \n",
    "    mean_d += abs(ad[idx])\n",
    "    \n",
    "mean_d /= len(ad)\n",
    "\n",
    "print (\"mean generated d: \", mean_d)\n",
    "\n",
    "ad = np.load(\"./Data/dr.npy\")\n",
    "\n",
    "mean_d = 0\n",
    "\n",
    "for idx in range(len(ad)):\n",
    "    \n",
    "    mean_d += abs(ad[idx])\n",
    "    \n",
    "mean_d /= len(ad)\n",
    "\n",
    "print (\"mean real d: \", mean_d)"
   ]
  },
  {
   "cell_type": "markdown",
   "id": "7d848fa3",
   "metadata": {},
   "source": [
    "# Tx"
   ]
  },
  {
   "cell_type": "code",
   "execution_count": 11,
   "id": "2bd17f4b",
   "metadata": {},
   "outputs": [
    {
     "name": "stdout",
     "output_type": "stream",
     "text": [
      "mean generated tx:  3.1362834089762988\n",
      "mean real tx:  2.0\n"
     ]
    }
   ],
   "source": [
    "atx = np.load(\"./Data/tx.npy\")\n",
    "atx = atx[int(len(atx)*0.7):]\n",
    "\n",
    "mean_tx = 0\n",
    "\n",
    "for idx in range(len(atx)):\n",
    "    \n",
    "    mean_tx += abs(atx[idx])\n",
    "    \n",
    "mean_tx /= len(atx)\n",
    "\n",
    "print (\"mean generated tx: \", mean_tx)\n",
    "\n",
    "atx = np.load(\"./Data/txr.npy\")\n",
    "\n",
    "mean_tx = 0\n",
    "\n",
    "for idx in range(len(atx)):\n",
    "    \n",
    "    mean_tx += abs(atx[idx])\n",
    "    \n",
    "mean_tx /= len(atx)\n",
    "\n",
    "print (\"mean real tx: \", mean_tx)"
   ]
  },
  {
   "cell_type": "markdown",
   "id": "2ee16fde",
   "metadata": {},
   "source": [
    "# Ty"
   ]
  },
  {
   "cell_type": "code",
   "execution_count": 12,
   "id": "9d230ae1",
   "metadata": {},
   "outputs": [
    {
     "name": "stdout",
     "output_type": "stream",
     "text": [
      "mean generated ty:  3.2890401748192972\n",
      "mean real ty:  0.125\n"
     ]
    }
   ],
   "source": [
    "aty = np.load(\"./Data/ty.npy\")\n",
    "aty = aty[int(len(aty)*0.7):]\n",
    "\n",
    "mean_ty = 0\n",
    "\n",
    "for idx in range(len(aty)):\n",
    "    \n",
    "    mean_ty += abs(aty[idx])\n",
    "    \n",
    "mean_ty /= len(aty)\n",
    "\n",
    "print (\"mean generated ty: \", mean_ty)\n",
    "\n",
    "aty = np.load(\"./Data/tyr.npy\")\n",
    "\n",
    "mean_ty = 0\n",
    "\n",
    "for idx in range(len(aty)):\n",
    "    \n",
    "    mean_ty += abs(aty[idx])\n",
    "    \n",
    "mean_ty /= len(aty)\n",
    "\n",
    "print (\"mean real ty: \", mean_ty)"
   ]
  },
  {
   "cell_type": "markdown",
   "id": "54695681",
   "metadata": {},
   "source": [
    "# Tz"
   ]
  },
  {
   "cell_type": "code",
   "execution_count": 13,
   "id": "0ef60152",
   "metadata": {},
   "outputs": [
    {
     "name": "stdout",
     "output_type": "stream",
     "text": [
      "mean generated tz:  2.8612371827197847\n",
      "mean real tz:  1.2300000000000164\n"
     ]
    }
   ],
   "source": [
    "atz = np.load(\"./Data/tz.npy\")\n",
    "atz = atz[int(len(atz)*0.7):]\n",
    "\n",
    "mean_tz = 0\n",
    "\n",
    "for idx in range(len(atz)):\n",
    "    \n",
    "    mean_tz += abs(atz[idx])\n",
    "    \n",
    "mean_tz /= len(atz)\n",
    "\n",
    "print (\"mean generated tz: \", mean_tz)\n",
    "\n",
    "atz = np.load(\"./Data/tzr.npy\")\n",
    "\n",
    "mean_tz = 0\n",
    "\n",
    "for idx in range(len(atz)):\n",
    "    \n",
    "    mean_tz += abs(atz[idx])\n",
    "    \n",
    "mean_tz /= len(atz)\n",
    "\n",
    "print (\"mean real tz: \", mean_tz)"
   ]
  },
  {
   "cell_type": "markdown",
   "id": "79142087",
   "metadata": {},
   "source": [
    "# Pitch"
   ]
  },
  {
   "cell_type": "code",
   "execution_count": 14,
   "id": "cdc4f7dd",
   "metadata": {},
   "outputs": [
    {
     "name": "stdout",
     "output_type": "stream",
     "text": [
      "mean generated p:  84.54614220877458\n",
      "mean real p:  0.0219999999999989\n"
     ]
    }
   ],
   "source": [
    "ap = np.load(\"./Data/p.npy\")\n",
    "ap = ap[int(len(ap)*0.7):]\n",
    "\n",
    "mean_p = 0\n",
    "\n",
    "for idx in range(len(ap)):\n",
    "    \n",
    "    mean_p += abs(ap[idx])\n",
    "    \n",
    "mean_p /= len(ap)\n",
    "\n",
    "print (\"mean generated p: \", mean_p)\n",
    "\n",
    "ap = np.load(\"./Data/pr.npy\")\n",
    "\n",
    "mean_p = 0\n",
    "\n",
    "for idx in range(len(ap)):\n",
    "    \n",
    "    mean_p += abs(ap[idx])\n",
    "    \n",
    "mean_p /= len(ap)\n",
    "\n",
    "print (\"mean real p: \", mean_p)"
   ]
  },
  {
   "cell_type": "markdown",
   "id": "72aa8da5",
   "metadata": {},
   "source": [
    "# Xw"
   ]
  },
  {
   "cell_type": "code",
   "execution_count": 15,
   "id": "ebf20e68",
   "metadata": {},
   "outputs": [
    {
     "name": "stdout",
     "output_type": "stream",
     "text": [
      "mean generated x:  31.613377053172897\n",
      "mean real x:  42.289555967764755\n"
     ]
    }
   ],
   "source": [
    "ax = np.load(\"./Data/x.npy\")\n",
    "ax = ax[int(len(ax)*0.7):]\n",
    "\n",
    "mean_x = 0\n",
    "\n",
    "for idx in range(len(ax)):\n",
    "    \n",
    "    mean_x += abs(ax[idx])\n",
    "    \n",
    "mean_x /= len(ax)\n",
    "\n",
    "print (\"mean generated x: \", mean_x)\n",
    "\n",
    "ax = np.load(\"./Data/xr.npy\")\n",
    "\n",
    "mean_x = 0\n",
    "\n",
    "for idx in range(len(ax)):\n",
    "    \n",
    "    mean_x += abs(ax[idx])\n",
    "    \n",
    "mean_x /= len(ax)\n",
    "\n",
    "print (\"mean real x: \", mean_x)"
   ]
  },
  {
   "cell_type": "markdown",
   "id": "7838645a",
   "metadata": {},
   "source": [
    "# Yw"
   ]
  },
  {
   "cell_type": "code",
   "execution_count": 16,
   "id": "99dcdfa2",
   "metadata": {},
   "outputs": [
    {
     "name": "stdout",
     "output_type": "stream",
     "text": [
      "mean generated y:  25.092866140117593\n",
      "mean real y:  18.34660238283241\n"
     ]
    }
   ],
   "source": [
    "ay = np.load(\"./Data/y.npy\")\n",
    "ay = ay[int(len(ay)*0.7):]\n",
    "\n",
    "mean_y = 0\n",
    "\n",
    "for idx in range(len(ay)):\n",
    "    \n",
    "    mean_y += abs(ay[idx])\n",
    "    \n",
    "mean_y /= len(ay)\n",
    "\n",
    "print (\"mean generated y: \", mean_y)\n",
    "\n",
    "ay = np.load(\"./Data/yr.npy\")\n",
    "\n",
    "mean_y = 0\n",
    "\n",
    "for idx in range(len(ay)):\n",
    "    \n",
    "    mean_y += abs(ay[idx])\n",
    "    \n",
    "mean_y /= len(ay)\n",
    "\n",
    "print (\"mean real y: \", mean_y)"
   ]
  },
  {
   "cell_type": "markdown",
   "id": "6b0ab326",
   "metadata": {},
   "source": [
    "# Zw"
   ]
  },
  {
   "cell_type": "code",
   "execution_count": 17,
   "id": "801e9406",
   "metadata": {},
   "outputs": [
    {
     "name": "stdout",
     "output_type": "stream",
     "text": [
      "mean generated z:  42.71013880363322\n",
      "mean real z:  9.56192501636253\n"
     ]
    }
   ],
   "source": [
    "az = np.load(\"./Data/z.npy\")\n",
    "az = az[int(len(az)*0.7):]\n",
    "\n",
    "mean_z = 0\n",
    "\n",
    "for idx in range(len(az)):\n",
    "    \n",
    "    mean_z += abs(az[idx])\n",
    "    \n",
    "mean_z /= len(az)\n",
    "\n",
    "print (\"mean generated z: \", mean_z)\n",
    "\n",
    "az = np.load(\"./Data/zr.npy\")\n",
    "\n",
    "mean_z = 0\n",
    "\n",
    "for idx in range(len(az)):\n",
    "    \n",
    "    mean_z += abs(az[idx])\n",
    "    \n",
    "mean_z /= len(az)\n",
    "\n",
    "print (\"mean real z: \", mean_z)"
   ]
  },
  {
   "cell_type": "markdown",
   "id": "ddcef1bc",
   "metadata": {},
   "source": [
    "# CVGL Dataset 2.0"
   ]
  },
  {
   "cell_type": "code",
   "execution_count": 2,
   "id": "c0b2c31e",
   "metadata": {},
   "outputs": [],
   "source": [
    "data_path = \"./Data/\"\n",
    "\n",
    "Left_images = np.load(data_path+\"li.npy\")\n",
    "Right_images = np.load(data_path+\"ri.npy\")\n",
    "Fx = np.load(data_path+\"fx.npy\")\n",
    "Fy = np.load(data_path+\"fy.npy\") \n",
    "U0 = np.load(data_path+\"u0.npy\") \n",
    "V0 = np.load(data_path+\"v0.npy\") \n",
    "Baseline = np.load(data_path+\"b.npy\")\n",
    "Disparity = np.load(data_path+\"d.npy\") \n",
    "Tx = np.load(data_path+\"tx.npy\") \n",
    "Ty = np.load(data_path+\"ty.npy\") \n",
    "Tz = np.load(data_path+\"tz.npy\") \n",
    "Pitch = np.load(data_path+\"p.npy\")\n",
    "X = np.load(data_path+\"x.npy\")\n",
    "Y = np.load(data_path+\"y.npy\") \n",
    "Z = np.load(data_path+\"z.npy\")\n"
   ]
  },
  {
   "cell_type": "code",
   "execution_count": 3,
   "id": "95e0e535",
   "metadata": {},
   "outputs": [],
   "source": [
    "mean_fx = np.mean(Fx[int(len(Fx)*0.7):])\n",
    "\n",
    "mean_fy = np.mean(Fy[int(len(Fy)*0.7):])\n",
    "\n",
    "mean_u0 = np.mean(U0[int(len(U0)*0.7):])\n",
    "\n",
    "mean_v0 = np.mean(V0[int(len(V0)*0.7):])\n",
    "\n",
    "mean_baseline = np.mean(Baseline[int(len(Baseline)*0.7):])\n",
    "\n",
    "mean_disparity = np.mean(Disparity[int(len(Disparity)*0.7):])\n",
    "\n",
    "mean_tx = np.mean(Tx[int(len(Tx)*0.7):])\n",
    "\n",
    "mean_ty = np.mean(Ty[int(len(Ty)*0.7):])\n",
    "\n",
    "mean_tz = np.mean(Tz[int(len(Tz)*0.7):])\n",
    "\n",
    "mean_pitch = np.mean(Pitch[int(len(Pitch)*0.7):])\n",
    "\n",
    "mean_xw = np.mean(X[int(len(X)*0.7):])\n",
    "\n",
    "mean_yw = np.mean(Y[int(len(Y)*0.7):])\n",
    "\n",
    "mean_zw = np.mean(Z[int(len(Z)*0.7):])\n"
   ]
  },
  {
   "cell_type": "code",
   "execution_count": 4,
   "id": "3b777a2c",
   "metadata": {},
   "outputs": [
    {
     "data": {
      "text/plain": [
       "(59.32098482132037,\n",
       " 59.32098482132037,\n",
       " 56.0,\n",
       " 56.0,\n",
       " -84.00701782907929,\n",
       " -10.972388226877689,\n",
       " -84.00701782907929,\n",
       " 0.4372459762640221,\n",
       " -0.5766162683574485,\n",
       " -12.380371755270145,\n",
       " -91.94288567681566,\n",
       " 0.4372459762640221,\n",
       " 44.48843272766856)"
      ]
     },
     "execution_count": 4,
     "metadata": {},
     "output_type": "execute_result"
    }
   ],
   "source": [
    "mean_fx, mean_fy, mean_u0, mean_v0, mean_baseline, mean_disparity, mean_tx, mean_ty, mean_tz, mean_pitch, mean_xw, mean_yw, mean_zw"
   ]
  },
  {
   "cell_type": "code",
   "execution_count": null,
   "id": "2d8be327",
   "metadata": {},
   "outputs": [],
   "source": []
  }
 ],
 "metadata": {
  "kernelspec": {
   "display_name": "Python 3",
   "language": "python",
   "name": "python3"
  },
  "language_info": {
   "codemirror_mode": {
    "name": "ipython",
    "version": 3
   },
   "file_extension": ".py",
   "mimetype": "text/x-python",
   "name": "python",
   "nbconvert_exporter": "python",
   "pygments_lexer": "ipython3",
   "version": "3.8.8"
  }
 },
 "nbformat": 4,
 "nbformat_minor": 5
}
