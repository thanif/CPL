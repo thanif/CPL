{
 "cells": [
  {
   "cell_type": "code",
   "execution_count": 2,
   "id": "be4880f8",
   "metadata": {},
   "outputs": [],
   "source": [
    "import tensorflow.compat.v1 as tf\n",
    "tf.disable_v2_behavior()\n",
    "tf.set_random_seed(1)\n",
    "config = tf.compat.v1.ConfigProto()\n",
    "config.gpu_options.allow_growth=True\n",
    "sess = tf.compat.v1.Session(config=config)\n",
    "import matplotlib.pyplot as plt\n",
    "import PIL.Image as Image\n",
    "import math\n",
    "import numpy as np\n",
    "import tensorflow.keras.backend as K\n",
    "from tensorflow.keras.utils import plot_model\n",
    "import json\n",
    "from tensorflow.keras.losses import mse\n",
    "import os\n",
    "import glob\n",
    "import random\n",
    "#import cv2\n",
    "from sklearn.model_selection import train_test_split\n",
    "from tensorflow.keras.applications.inception_v3 import InceptionV3\n",
    "import datetime\n",
    "from tensorflow.keras.layers import Dense, Input, concatenate, Conv2D, MaxPooling2D, Flatten, Lambda\n",
    "from tensorflow.keras.models import Model\n",
    "from tensorflow.keras import optimizers\n",
    "from tensorflow.keras.callbacks import ModelCheckpoint, EarlyStopping, CSVLogger, ReduceLROnPlateau\n",
    "from tensorflow.keras.callbacks import TensorBoard\n",
    "%matplotlib inline"
   ]
  },
  {
   "cell_type": "code",
   "execution_count": 3,
   "id": "ec74b598",
   "metadata": {},
   "outputs": [],
   "source": [
    "data_path = \"./Data/\"\n",
    "\n",
    "Left_images = np.load(data_path+\"lir_cs.npy\")\n",
    "Right_images = np.load(data_path+\"rir_cs.npy\")\n",
    "Fx = np.load(data_path+\"fxr_cs.npy\")\n",
    "Fy = np.load(data_path+\"fyr_cs.npy\") \n",
    "U0 = np.load(data_path+\"u0r_cs.npy\") \n",
    "V0 = np.load(data_path+\"v0r_cs.npy\") \n",
    "Baseline = np.load(data_path+\"br_cs.npy\")\n",
    "Disparity = np.load(data_path+\"dr_cs.npy\") \n",
    "Tx = np.load(data_path+\"txr_cs.npy\") \n",
    "Ty = np.load(data_path+\"tyr_cs.npy\") \n",
    "Tz = np.load(data_path+\"tzr_cs.npy\") \n",
    "Pitch = np.load(data_path+\"pr_cs.npy\")\n",
    "X = np.load(data_path+\"xr_cs.npy\")\n",
    "Y = np.load(data_path+\"yr_cs.npy\") \n",
    "Z = np.load(data_path+\"zr_cs.npy\")\n"
   ]
  },
  {
   "cell_type": "code",
   "execution_count": 7,
   "id": "067128c7",
   "metadata": {},
   "outputs": [],
   "source": [
    "mean_fx = np.mean(Fx[int(len(Fx)*0.7):])\n",
    "\n",
    "mean_fy = np.mean(Fy[int(len(Fy)*0.7):])\n",
    "\n",
    "mean_u0 = np.mean(U0[int(len(U0)*0.7):])\n",
    "\n",
    "mean_v0 = np.mean(V0[int(len(V0)*0.7):])\n",
    "\n",
    "mean_baseline = np.mean(Baseline[int(len(Baseline)*0.7):])\n",
    "\n",
    "mean_disparity = np.mean(Disparity[int(len(Disparity)*0.7):])\n",
    "\n",
    "mean_tx = np.mean(Tx[int(len(Tx)*0.7):])\n",
    "\n",
    "mean_ty = np.mean(Ty[int(len(Ty)*0.7):])\n",
    "\n",
    "mean_tz = np.mean(Tz[int(len(Tz)*0.7):])\n",
    "\n",
    "mean_pitch = np.mean(Pitch[int(len(Pitch)*0.7):])\n",
    "\n",
    "mean_xw = np.mean(X[int(len(X)*0.7):])\n",
    "\n",
    "mean_yw = np.mean(Y[int(len(Y)*0.7):])\n",
    "\n",
    "mean_zw = np.mean(Z[int(len(Z)*0.7):])\n"
   ]
  },
  {
   "cell_type": "code",
   "execution_count": 9,
   "id": "48c8d6a8",
   "metadata": {},
   "outputs": [
    {
     "data": {
      "text/plain": [
       "(2264.2327510917034,\n",
       " 2253.868010102392,\n",
       " 1081.5683842794758,\n",
       " 514.9599912663754,\n",
       " 0.21329831659388643,\n",
       " 14.895290324781659,\n",
       " 1.6999999999999993,\n",
       " 0.03842794759825327,\n",
       " 1.2281222707423585,\n",
       " 0.0416943231441048,\n",
       " 76.88999830085741,\n",
       " 35.61612170597476,\n",
       " 15.00800213427252)"
      ]
     },
     "execution_count": 9,
     "metadata": {},
     "output_type": "execute_result"
    }
   ],
   "source": [
    "mean_fx, mean_fy, mean_u0, mean_v0, mean_baseline, mean_disparity, mean_tx, mean_ty, mean_tz, mean_pitch, mean_xw, mean_yw, mean_zw"
   ]
  },
  {
   "cell_type": "code",
   "execution_count": null,
   "id": "0a8f9a88",
   "metadata": {},
   "outputs": [],
   "source": []
  }
 ],
 "metadata": {
  "kernelspec": {
   "display_name": "Python 3",
   "language": "python",
   "name": "python3"
  },
  "language_info": {
   "codemirror_mode": {
    "name": "ipython",
    "version": 3
   },
   "file_extension": ".py",
   "mimetype": "text/x-python",
   "name": "python",
   "nbconvert_exporter": "python",
   "pygments_lexer": "ipython3",
   "version": "3.8.8"
  }
 },
 "nbformat": 4,
 "nbformat_minor": 5
}
